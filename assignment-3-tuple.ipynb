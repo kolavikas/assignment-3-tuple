{
 "cells": [
  {
   "cell_type": "code",
   "execution_count": 1,
   "id": "c64a060e",
   "metadata": {},
   "outputs": [
    {
     "data": {
      "text/plain": [
       "{4: 2, 5: 3, 6: 2}"
      ]
     },
     "execution_count": 1,
     "metadata": {},
     "output_type": "execute_result"
    }
   ],
   "source": [
    "t=(4,5,4,5,6,6,5)\n",
    "a=set(t)\n",
    "d={}\n",
    "for i in a:\n",
    "    d[i]=t.count(i)\n",
    "d"
   ]
  },
  {
   "cell_type": "code",
   "execution_count": 2,
   "id": "c406f531",
   "metadata": {},
   "outputs": [
    {
     "data": {
      "text/plain": [
       "[25.5, -18.0, 3.75]"
      ]
     },
     "execution_count": 2,
     "metadata": {},
     "output_type": "execute_result"
    }
   ],
   "source": [
    "t=((1,1,-5),(30,-15,56),(81,-60,-39),(-10,2,3))\n",
    "k=[]\n",
    "for i in range(3):\n",
    "    a=t[0][i]+t[1][i]+t[2][i]+t[3][i]\n",
    "    k.append(a/len(t))\n",
    "k"
   ]
  },
  {
   "cell_type": "code",
   "execution_count": 3,
   "id": "96467994",
   "metadata": {},
   "outputs": [
    {
     "data": {
      "text/plain": [
       "[('aa', 30), ('aaaa', 28), ('bab', 29), ('bb', 21), ('csa', 'C')]"
      ]
     },
     "execution_count": 3,
     "metadata": {},
     "output_type": "execute_result"
    }
   ],
   "source": [
    "a=[(\"aaaa\",28),(\"aa\",30),(\"bab\",29),(\"bb\",21),(\"csa\",\"C\")]\n",
    "a.sort()\n",
    "a\n"
   ]
  },
  {
   "cell_type": "code",
   "execution_count": null,
   "id": "8a0da6f5",
   "metadata": {},
   "outputs": [],
   "source": []
  }
 ],
 "metadata": {
  "kernelspec": {
   "display_name": "Python 3 (ipykernel)",
   "language": "python",
   "name": "python3"
  },
  "language_info": {
   "codemirror_mode": {
    "name": "ipython",
    "version": 3
   },
   "file_extension": ".py",
   "mimetype": "text/x-python",
   "name": "python",
   "nbconvert_exporter": "python",
   "pygments_lexer": "ipython3",
   "version": "3.9.13"
  }
 },
 "nbformat": 4,
 "nbformat_minor": 5
}
